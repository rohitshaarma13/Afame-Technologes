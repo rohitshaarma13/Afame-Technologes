{
 "cells": [
  {
   "cell_type": "code",
   "execution_count": 40,
   "id": "f0525c07-e63a-47d7-987d-a401d81b196b",
   "metadata": {},
   "outputs": [],
   "source": [
    "import pandas as pd\n",
    "import matplotlib.pyplot as plt\n"
   ]
  },
  {
   "cell_type": "markdown",
   "id": "417e41c2-418b-417f-9fae-f7fe91feabbc",
   "metadata": {},
   "source": [
    "df = pd.read_excel(\"C:/Users/kaurs/Downloads/ECOMM DATA.xlsx\")\n",
    "total_records = len(df)\n",
    "print(total_records)"
   ]
  },
  {
   "cell_type": "markdown",
   "id": "5abf2f05-3071-4ff1-9e07-7d6576c7fa3a",
   "metadata": {},
   "source": [
    "print(\"Initial Data Sample\")\n",
    "print(df.head())"
   ]
  },
  {
   "cell_type": "markdown",
   "id": "3fdd85a5-41ac-4cdb-b6bf-0fa73efcd4c0",
   "metadata": {},
   "source": [
    "print(\"Missing values per column\")\n",
    "print(df.isnull().sum())"
   ]
  },
  {
   "cell_type": "markdown",
   "id": "60260e19-d1b2-4548-b439-8e14dd23d6a6",
   "metadata": {},
   "source": [
    "df.dropna(inplace=True)"
   ]
  },
  {
   "cell_type": "markdown",
   "id": "b54ff568-9df4-45ef-9394-98a3fd07bf64",
   "metadata": {},
   "source": [
    "print(df.isnull().sum())"
   ]
  },
  {
   "cell_type": "markdown",
   "id": "e6610a75-bb3f-4be7-a9f9-2769b4fe8702",
   "metadata": {},
   "source": [
    "print(\"Number of duplicate rows\", df.duplicated().sum())"
   ]
  },
  {
   "cell_type": "markdown",
   "id": "358a5a33-d5e9-49d4-b97a-09e88fa560e0",
   "metadata": {},
   "source": [
    "print(\"Data Types of columns\",df.dtypes)"
   ]
  },
  {
   "cell_type": "markdown",
   "id": "e5b54f56-8d2b-4e12-812d-aa8c09164104",
   "metadata": {},
   "source": [
    "print(\"Summary Statistics for numeric columns\",df.describe())"
   ]
  },
  {
   "cell_type": "markdown",
   "id": "9798fa47-f0e2-4b74-9ec1-dc7caa405856",
   "metadata": {},
   "source": [
    "df['Order Date'] = pd.to_datetime(df['Order Date'])\n",
    "df['Ship Date'] = pd.to_datetime(df['Ship Date'])"
   ]
  },
  {
   "cell_type": "markdown",
   "id": "29b53077-e279-4031-af61-2aefb2ac206d",
   "metadata": {},
   "source": [
    "total_sales = df['Sales'].sum()"
   ]
  },
  {
   "cell_type": "markdown",
   "id": "ef09700c-58bc-4b0a-8630-8d5a093ac417",
   "metadata": {},
   "source": [
    "df['Order Month']= df['Order Date'].dt.to_period('M')\n",
    "monthly_sales = df.groupby('Order Month')['Sales'].sum()\n",
    "monthly_sales.plot(kind ='line',marker='o',figsize=(10,6))\n",
    "plt.title('Monthly Sales Trend')\n",
    "plt.xlabel('Month')\n",
    "plt.ylabel('Total Sales ')\n",
    "plt.grid(True)\n",
    "plt.show()"
   ]
  },
  {
   "cell_type": "markdown",
   "id": "011d533f-fbe6-48f2-986d-5b4b1afc60ca",
   "metadata": {},
   "source": [
    "best_selling_products = df.groupby('Product Name')['Sales'].sum().sort_values(ascending=False).head(10)\n",
    "best_selling_products.plot(kind ='bar',figsize=(10,6))\n",
    "plt.title('Top 10 Best Selling Products')\n",
    "plt.xlabel('Product Name')\n",
    "plt.ylabel('Total Sales')\n",
    "plt.xticks(rotation =45,ha='right')\n",
    "plt.show()"
   ]
  },
  {
   "cell_type": "markdown",
   "id": "199500e1-2b97-4d11-a396-e18afd468a0f",
   "metadata": {},
   "source": [
    "average_discount = df['Discount'].mean()\n",
    "average_profit = df['Profit'].mean()\n",
    "total_orders = df['Order ID'].nunique()\n",
    "unique_customers = df['Customer ID'].nunique()\n",
    "most_common_segment = df['Segment'].mode()[0]\n",
    "most_common_category = df['Category'].mode()[0]\n",
    "most_common_region = df['Region'].mode()[0]\n",
    "profit_by_category = df.groupby('Category')['Profit'].sum()\n",
    "revenue_by_segment =df.groupby('Segment')['Sales'].sum()\n"
   ]
  },
  {
   "cell_type": "markdown",
   "id": "77b829a4-5f8f-4c9c-8049-20b7d1b8d417",
   "metadata": {},
   "source": [
    "print(\"Total Sales\",total_sales)\n",
    "print(\"Average Discount\",average_discount)\n",
    "print(\"Average Profit\",average_profit)\n",
    "print(\"Total Orders\",total_orders)\n",
    "print(\"Unique Customer\",unique_customers)\n",
    "print(\"Most common Segment\",most_common_segment)\n",
    "print(\"Most Common Category\",most_common_category)\n",
    "print(\"Most Common Region\", most_common_region)\n",
    "print(\"Profit by Category\",profit_by_category)\n",
    "print(\"Revenue by Segment\",revenue_by_segment)\n"
   ]
  },
  {
   "cell_type": "markdown",
   "id": "7732f4cf-e368-4cad-9dea-7215f173f73b",
   "metadata": {},
   "source": [
    "df[\"Ship Time\"]=(df['Ship Date']-df['Order Date']).dt.days\n",
    "average_ship_time = df['Ship Time'].mean()\n"
   ]
  },
  {
   "cell_type": "markdown",
   "id": "b2233240-c15e-45ab-b489-536465d4aacd",
   "metadata": {},
   "source": [
    "monthly_sales_distribution= df.groupby(df['Order Date'].dt.month)['Sales'].sum()\n"
   ]
  },
  {
   "cell_type": "markdown",
   "id": "5a235124-784e-4201-b9f9-f177589bbe00",
   "metadata": {},
   "source": [
    "revenue_per_customer = df.groupby(\"Customer ID\")['Sales'].sum()"
   ]
  },
  {
   "cell_type": "markdown",
   "id": "80f965fe-7f02-43fc-9afa-b79c9d6a7b9d",
   "metadata": {},
   "source": [
    "sales_by_region = df.groupby(\"Region\")['Sales'].sum()"
   ]
  },
  {
   "cell_type": "markdown",
   "id": "4830620f-b57d-40cb-a0f9-7241548bfb88",
   "metadata": {},
   "source": [
    "sales_with_discount = df[df['Discount']>0]['Sales'].sum()\n",
    "sales_without_discount = df[df['Discount']==0]['Sales'].sum()\n",
    "discount_effectiveness = (sales_with_discount - sales_without_discount)/sales_without_discount*100\n"
   ]
  },
  {
   "cell_type": "markdown",
   "id": "7ff26d0a-297b-4f8f-b978-7150971c506e",
   "metadata": {},
   "source": [
    "profit_by_category.plot(kind ='bar',figsize=(10,6))\n",
    "plt.title(\"Profitability by Product Category \")\n",
    "plt.xlabel(\"Product Category\")\n",
    "plt.ylabel(\"Total Profit\")"
   ]
  },
  {
   "cell_type": "markdown",
   "id": "724de142-ac2d-4938-9bed-cd975c710585",
   "metadata": {},
   "source": [
    "revenue_by_segment.plot(kind ='bar',figsize=(10,6))\n",
    "plt.title(\"Revenue by Customer Segment\")\n",
    "plt.xlabel(\"Segment\")\n",
    "plt.ylabel(\"Total Revenue\")"
   ]
  },
  {
   "cell_type": "markdown",
   "id": "f81fbd2a-e234-4cc5-a6d9-d17b5a00ef35",
   "metadata": {},
   "source": [
    "monthly_sales_distribution.plot(kind ='bar',figsize=(10,6))\n",
    "plt.title(\"Monthly Sales Distribution\")\n",
    "plt.xlabel(\"Month\")\n",
    "plt.ylabel(\"Total Sales\")"
   ]
  },
  {
   "cell_type": "markdown",
   "id": "216f98fe-8bb9-48ff-80ba-690dab29cd48",
   "metadata": {},
   "source": [
    "sales_by_region.plot(kind=\"bar\",figsize=(10,6))\n",
    "plt.title(\"Sales by Region\")\n",
    "plt.xlabel(\"Region\")\n",
    "plt.ylabel(\"Total Sales \")"
   ]
  },
  {
   "cell_type": "code",
   "execution_count": null,
   "id": "ce064228-4deb-4b6d-90ef-1b343d16c3ad",
   "metadata": {},
   "outputs": [],
   "source": []
  }
 ],
 "metadata": {
  "kernelspec": {
   "display_name": "Python 3 (ipykernel)",
   "language": "python",
   "name": "python3"
  },
  "language_info": {
   "codemirror_mode": {
    "name": "ipython",
    "version": 3
   },
   "file_extension": ".py",
   "mimetype": "text/x-python",
   "name": "python",
   "nbconvert_exporter": "python",
   "pygments_lexer": "ipython3",
   "version": "3.11.4"
  }
 },
 "nbformat": 4,
 "nbformat_minor": 5
}
